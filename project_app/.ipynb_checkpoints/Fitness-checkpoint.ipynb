{
 "cells": [
  {
   "cell_type": "code",
   "execution_count": 126,
   "id": "b21425d1-e199-4c32-b4bb-ff16d808aef8",
   "metadata": {},
   "outputs": [],
   "source": [
    "import pandas as pd\n",
    "import numpy as np\n",
    "import seaborn as sns\n",
    "import matplotlib.pyplot as plt\n",
    "import warnings\n",
    "warnings.filterwarnings('ignore')\n",
    "from sklearn.model_selection import train_test_split\n",
    "from sklearn.linear_model import LinearRegression\n",
    "from sklearn.metrics import mean_absolute_error, r2_score, mean_squared_error\n",
    "import pickle \n",
    "import json\n",
    "import matplotlib\n",
    "%matplotlib inline"
   ]
  },
  {
   "cell_type": "code",
   "execution_count": 127,
   "id": "2b838ed5-2c67-4d64-994b-ec91e514fbe5",
   "metadata": {},
   "outputs": [
    {
     "data": {
      "text/html": [
       "<div>\n",
       "<style scoped>\n",
       "    .dataframe tbody tr th:only-of-type {\n",
       "        vertical-align: middle;\n",
       "    }\n",
       "\n",
       "    .dataframe tbody tr th {\n",
       "        vertical-align: top;\n",
       "    }\n",
       "\n",
       "    .dataframe thead th {\n",
       "        text-align: right;\n",
       "    }\n",
       "</style>\n",
       "<table border=\"1\" class=\"dataframe\">\n",
       "  <thead>\n",
       "    <tr style=\"text-align: right;\">\n",
       "      <th></th>\n",
       "      <th>Weight</th>\n",
       "      <th>Height</th>\n",
       "      <th>BMI</th>\n",
       "      <th>Gender</th>\n",
       "      <th>Age</th>\n",
       "      <th>BMIcase</th>\n",
       "      <th>Exercise Recommendation Plan</th>\n",
       "    </tr>\n",
       "  </thead>\n",
       "  <tbody>\n",
       "    <tr>\n",
       "      <th>0</th>\n",
       "      <td>92.085190</td>\n",
       "      <td>1.760250</td>\n",
       "      <td>29.719488</td>\n",
       "      <td>Female</td>\n",
       "      <td>59</td>\n",
       "      <td>over weight</td>\n",
       "      <td>5</td>\n",
       "    </tr>\n",
       "    <tr>\n",
       "      <th>1</th>\n",
       "      <td>61.089124</td>\n",
       "      <td>1.595499</td>\n",
       "      <td>23.997776</td>\n",
       "      <td>Female</td>\n",
       "      <td>25</td>\n",
       "      <td>normal</td>\n",
       "      <td>4</td>\n",
       "    </tr>\n",
       "    <tr>\n",
       "      <th>2</th>\n",
       "      <td>82.454037</td>\n",
       "      <td>1.816538</td>\n",
       "      <td>24.987499</td>\n",
       "      <td>Female</td>\n",
       "      <td>50</td>\n",
       "      <td>normal</td>\n",
       "      <td>4</td>\n",
       "    </tr>\n",
       "    <tr>\n",
       "      <th>3</th>\n",
       "      <td>101.713306</td>\n",
       "      <td>1.790696</td>\n",
       "      <td>31.720047</td>\n",
       "      <td>Female</td>\n",
       "      <td>62</td>\n",
       "      <td>obese</td>\n",
       "      <td>6</td>\n",
       "    </tr>\n",
       "    <tr>\n",
       "      <th>4</th>\n",
       "      <td>99.609527</td>\n",
       "      <td>1.969726</td>\n",
       "      <td>25.673756</td>\n",
       "      <td>Male</td>\n",
       "      <td>57</td>\n",
       "      <td>over weight</td>\n",
       "      <td>5</td>\n",
       "    </tr>\n",
       "    <tr>\n",
       "      <th>...</th>\n",
       "      <td>...</td>\n",
       "      <td>...</td>\n",
       "      <td>...</td>\n",
       "      <td>...</td>\n",
       "      <td>...</td>\n",
       "      <td>...</td>\n",
       "      <td>...</td>\n",
       "    </tr>\n",
       "    <tr>\n",
       "      <th>4995</th>\n",
       "      <td>55.256111</td>\n",
       "      <td>1.442648</td>\n",
       "      <td>26.549697</td>\n",
       "      <td>Female</td>\n",
       "      <td>23</td>\n",
       "      <td>over weight</td>\n",
       "      <td>5</td>\n",
       "    </tr>\n",
       "    <tr>\n",
       "      <th>4996</th>\n",
       "      <td>106.683815</td>\n",
       "      <td>1.779544</td>\n",
       "      <td>33.688435</td>\n",
       "      <td>Female</td>\n",
       "      <td>65</td>\n",
       "      <td>severe obese</td>\n",
       "      <td>7</td>\n",
       "    </tr>\n",
       "    <tr>\n",
       "      <th>4997</th>\n",
       "      <td>55.645396</td>\n",
       "      <td>1.915978</td>\n",
       "      <td>15.158221</td>\n",
       "      <td>Male</td>\n",
       "      <td>26</td>\n",
       "      <td>sever thinness</td>\n",
       "      <td>1</td>\n",
       "    </tr>\n",
       "    <tr>\n",
       "      <th>4998</th>\n",
       "      <td>83.748623</td>\n",
       "      <td>1.751525</td>\n",
       "      <td>27.298892</td>\n",
       "      <td>Female</td>\n",
       "      <td>55</td>\n",
       "      <td>over weight</td>\n",
       "      <td>5</td>\n",
       "    </tr>\n",
       "    <tr>\n",
       "      <th>4999</th>\n",
       "      <td>103.344782</td>\n",
       "      <td>1.789984</td>\n",
       "      <td>32.254493</td>\n",
       "      <td>Female</td>\n",
       "      <td>22</td>\n",
       "      <td>severe obese</td>\n",
       "      <td>7</td>\n",
       "    </tr>\n",
       "  </tbody>\n",
       "</table>\n",
       "<p>5000 rows × 7 columns</p>\n",
       "</div>"
      ],
      "text/plain": [
       "          Weight    Height        BMI  Gender  Age         BMIcase  \\\n",
       "0      92.085190  1.760250  29.719488  Female   59     over weight   \n",
       "1      61.089124  1.595499  23.997776  Female   25          normal   \n",
       "2      82.454037  1.816538  24.987499  Female   50          normal   \n",
       "3     101.713306  1.790696  31.720047  Female   62           obese   \n",
       "4      99.609527  1.969726  25.673756    Male   57     over weight   \n",
       "...          ...       ...        ...     ...  ...             ...   \n",
       "4995   55.256111  1.442648  26.549697  Female   23     over weight   \n",
       "4996  106.683815  1.779544  33.688435  Female   65    severe obese   \n",
       "4997   55.645396  1.915978  15.158221    Male   26  sever thinness   \n",
       "4998   83.748623  1.751525  27.298892  Female   55     over weight   \n",
       "4999  103.344782  1.789984  32.254493  Female   22    severe obese   \n",
       "\n",
       "      Exercise Recommendation Plan  \n",
       "0                                5  \n",
       "1                                4  \n",
       "2                                4  \n",
       "3                                6  \n",
       "4                                5  \n",
       "...                            ...  \n",
       "4995                             5  \n",
       "4996                             7  \n",
       "4997                             1  \n",
       "4998                             5  \n",
       "4999                             7  \n",
       "\n",
       "[5000 rows x 7 columns]"
      ]
     },
     "execution_count": 127,
     "metadata": {},
     "output_type": "execute_result"
    }
   ],
   "source": [
    "df = pd.read_csv('final_dataset.csv')\n",
    "df"
   ]
  },
  {
   "cell_type": "code",
   "execution_count": 128,
   "id": "031eb71f-6093-402e-a332-386b2633172b",
   "metadata": {},
   "outputs": [
    {
     "name": "stdout",
     "output_type": "stream",
     "text": [
      "<class 'pandas.core.frame.DataFrame'>\n",
      "RangeIndex: 5000 entries, 0 to 4999\n",
      "Data columns (total 7 columns):\n",
      " #   Column                        Non-Null Count  Dtype  \n",
      "---  ------                        --------------  -----  \n",
      " 0   Weight                        5000 non-null   float64\n",
      " 1   Height                        5000 non-null   float64\n",
      " 2   BMI                           5000 non-null   float64\n",
      " 3   Gender                        5000 non-null   object \n",
      " 4   Age                           5000 non-null   int64  \n",
      " 5   BMIcase                       5000 non-null   object \n",
      " 6   Exercise Recommendation Plan  5000 non-null   int64  \n",
      "dtypes: float64(3), int64(2), object(2)\n",
      "memory usage: 273.6+ KB\n"
     ]
    }
   ],
   "source": [
    "df.info()"
   ]
  },
  {
   "cell_type": "code",
   "execution_count": 129,
   "id": "ce044792-8e11-4815-9da5-e9a0e50623e4",
   "metadata": {},
   "outputs": [
    {
     "data": {
      "text/html": [
       "<div>\n",
       "<style scoped>\n",
       "    .dataframe tbody tr th:only-of-type {\n",
       "        vertical-align: middle;\n",
       "    }\n",
       "\n",
       "    .dataframe tbody tr th {\n",
       "        vertical-align: top;\n",
       "    }\n",
       "\n",
       "    .dataframe thead th {\n",
       "        text-align: right;\n",
       "    }\n",
       "</style>\n",
       "<table border=\"1\" class=\"dataframe\">\n",
       "  <thead>\n",
       "    <tr style=\"text-align: right;\">\n",
       "      <th></th>\n",
       "      <th>Weight</th>\n",
       "      <th>Height</th>\n",
       "      <th>BMI</th>\n",
       "      <th>Age</th>\n",
       "      <th>Exercise Recommendation Plan</th>\n",
       "    </tr>\n",
       "  </thead>\n",
       "  <tbody>\n",
       "    <tr>\n",
       "      <th>count</th>\n",
       "      <td>5000.000000</td>\n",
       "      <td>5000.000000</td>\n",
       "      <td>5000.000000</td>\n",
       "      <td>5000.000000</td>\n",
       "      <td>5000.000000</td>\n",
       "    </tr>\n",
       "    <tr>\n",
       "      <th>mean</th>\n",
       "      <td>79.760954</td>\n",
       "      <td>1.761265</td>\n",
       "      <td>25.900955</td>\n",
       "      <td>41.956000</td>\n",
       "      <td>4.823400</td>\n",
       "    </tr>\n",
       "    <tr>\n",
       "      <th>std</th>\n",
       "      <td>17.359682</td>\n",
       "      <td>0.129611</td>\n",
       "      <td>5.678326</td>\n",
       "      <td>14.030361</td>\n",
       "      <td>1.522589</td>\n",
       "    </tr>\n",
       "    <tr>\n",
       "      <th>min</th>\n",
       "      <td>50.002978</td>\n",
       "      <td>1.390171</td>\n",
       "      <td>12.791453</td>\n",
       "      <td>18.000000</td>\n",
       "      <td>1.000000</td>\n",
       "    </tr>\n",
       "    <tr>\n",
       "      <th>25%</th>\n",
       "      <td>64.705890</td>\n",
       "      <td>1.703790</td>\n",
       "      <td>21.501848</td>\n",
       "      <td>30.000000</td>\n",
       "      <td>4.000000</td>\n",
       "    </tr>\n",
       "    <tr>\n",
       "      <th>50%</th>\n",
       "      <td>79.536451</td>\n",
       "      <td>1.776202</td>\n",
       "      <td>26.314692</td>\n",
       "      <td>42.000000</td>\n",
       "      <td>5.000000</td>\n",
       "    </tr>\n",
       "    <tr>\n",
       "      <th>75%</th>\n",
       "      <td>95.102506</td>\n",
       "      <td>1.848437</td>\n",
       "      <td>30.741264</td>\n",
       "      <td>54.000000</td>\n",
       "      <td>6.000000</td>\n",
       "    </tr>\n",
       "    <tr>\n",
       "      <th>max</th>\n",
       "      <td>109.998871</td>\n",
       "      <td>1.979633</td>\n",
       "      <td>34.997098</td>\n",
       "      <td>65.000000</td>\n",
       "      <td>7.000000</td>\n",
       "    </tr>\n",
       "  </tbody>\n",
       "</table>\n",
       "</div>"
      ],
      "text/plain": [
       "            Weight       Height          BMI          Age  \\\n",
       "count  5000.000000  5000.000000  5000.000000  5000.000000   \n",
       "mean     79.760954     1.761265    25.900955    41.956000   \n",
       "std      17.359682     0.129611     5.678326    14.030361   \n",
       "min      50.002978     1.390171    12.791453    18.000000   \n",
       "25%      64.705890     1.703790    21.501848    30.000000   \n",
       "50%      79.536451     1.776202    26.314692    42.000000   \n",
       "75%      95.102506     1.848437    30.741264    54.000000   \n",
       "max     109.998871     1.979633    34.997098    65.000000   \n",
       "\n",
       "       Exercise Recommendation Plan  \n",
       "count                   5000.000000  \n",
       "mean                       4.823400  \n",
       "std                        1.522589  \n",
       "min                        1.000000  \n",
       "25%                        4.000000  \n",
       "50%                        5.000000  \n",
       "75%                        6.000000  \n",
       "max                        7.000000  "
      ]
     },
     "execution_count": 129,
     "metadata": {},
     "output_type": "execute_result"
    }
   ],
   "source": [
    "df.describe()"
   ]
  },
  {
   "cell_type": "code",
   "execution_count": 130,
   "id": "8710534b-61c2-4907-9372-73233f20b998",
   "metadata": {},
   "outputs": [
    {
     "data": {
      "text/plain": [
       "Weight                          0\n",
       "Height                          0\n",
       "BMI                             0\n",
       "Gender                          0\n",
       "Age                             0\n",
       "BMIcase                         0\n",
       "Exercise Recommendation Plan    0\n",
       "dtype: int64"
      ]
     },
     "execution_count": 130,
     "metadata": {},
     "output_type": "execute_result"
    }
   ],
   "source": [
    "df.isna().sum()"
   ]
  },
  {
   "cell_type": "code",
   "execution_count": 131,
   "id": "c257226e-cc07-4529-8b21-f30fe1ba5e24",
   "metadata": {},
   "outputs": [],
   "source": [
    "df.columns = df.columns.str.lower()"
   ]
  },
  {
   "cell_type": "code",
   "execution_count": 132,
   "id": "17dd2c98-5fe9-4e3c-b7d5-05c210cb66bd",
   "metadata": {},
   "outputs": [
    {
     "data": {
      "text/html": [
       "<div>\n",
       "<style scoped>\n",
       "    .dataframe tbody tr th:only-of-type {\n",
       "        vertical-align: middle;\n",
       "    }\n",
       "\n",
       "    .dataframe tbody tr th {\n",
       "        vertical-align: top;\n",
       "    }\n",
       "\n",
       "    .dataframe thead th {\n",
       "        text-align: right;\n",
       "    }\n",
       "</style>\n",
       "<table border=\"1\" class=\"dataframe\">\n",
       "  <thead>\n",
       "    <tr style=\"text-align: right;\">\n",
       "      <th></th>\n",
       "      <th>weight</th>\n",
       "      <th>height</th>\n",
       "      <th>bmi</th>\n",
       "      <th>gender</th>\n",
       "      <th>age</th>\n",
       "      <th>bmicase</th>\n",
       "      <th>exercise recommendation plan</th>\n",
       "    </tr>\n",
       "  </thead>\n",
       "  <tbody>\n",
       "    <tr>\n",
       "      <th>0</th>\n",
       "      <td>92.085190</td>\n",
       "      <td>1.760250</td>\n",
       "      <td>29.719488</td>\n",
       "      <td>Female</td>\n",
       "      <td>59</td>\n",
       "      <td>over weight</td>\n",
       "      <td>5</td>\n",
       "    </tr>\n",
       "    <tr>\n",
       "      <th>1</th>\n",
       "      <td>61.089124</td>\n",
       "      <td>1.595499</td>\n",
       "      <td>23.997776</td>\n",
       "      <td>Female</td>\n",
       "      <td>25</td>\n",
       "      <td>normal</td>\n",
       "      <td>4</td>\n",
       "    </tr>\n",
       "    <tr>\n",
       "      <th>2</th>\n",
       "      <td>82.454037</td>\n",
       "      <td>1.816538</td>\n",
       "      <td>24.987499</td>\n",
       "      <td>Female</td>\n",
       "      <td>50</td>\n",
       "      <td>normal</td>\n",
       "      <td>4</td>\n",
       "    </tr>\n",
       "    <tr>\n",
       "      <th>3</th>\n",
       "      <td>101.713306</td>\n",
       "      <td>1.790696</td>\n",
       "      <td>31.720047</td>\n",
       "      <td>Female</td>\n",
       "      <td>62</td>\n",
       "      <td>obese</td>\n",
       "      <td>6</td>\n",
       "    </tr>\n",
       "    <tr>\n",
       "      <th>4</th>\n",
       "      <td>99.609527</td>\n",
       "      <td>1.969726</td>\n",
       "      <td>25.673756</td>\n",
       "      <td>Male</td>\n",
       "      <td>57</td>\n",
       "      <td>over weight</td>\n",
       "      <td>5</td>\n",
       "    </tr>\n",
       "    <tr>\n",
       "      <th>...</th>\n",
       "      <td>...</td>\n",
       "      <td>...</td>\n",
       "      <td>...</td>\n",
       "      <td>...</td>\n",
       "      <td>...</td>\n",
       "      <td>...</td>\n",
       "      <td>...</td>\n",
       "    </tr>\n",
       "    <tr>\n",
       "      <th>4995</th>\n",
       "      <td>55.256111</td>\n",
       "      <td>1.442648</td>\n",
       "      <td>26.549697</td>\n",
       "      <td>Female</td>\n",
       "      <td>23</td>\n",
       "      <td>over weight</td>\n",
       "      <td>5</td>\n",
       "    </tr>\n",
       "    <tr>\n",
       "      <th>4996</th>\n",
       "      <td>106.683815</td>\n",
       "      <td>1.779544</td>\n",
       "      <td>33.688435</td>\n",
       "      <td>Female</td>\n",
       "      <td>65</td>\n",
       "      <td>severe obese</td>\n",
       "      <td>7</td>\n",
       "    </tr>\n",
       "    <tr>\n",
       "      <th>4997</th>\n",
       "      <td>55.645396</td>\n",
       "      <td>1.915978</td>\n",
       "      <td>15.158221</td>\n",
       "      <td>Male</td>\n",
       "      <td>26</td>\n",
       "      <td>sever thinness</td>\n",
       "      <td>1</td>\n",
       "    </tr>\n",
       "    <tr>\n",
       "      <th>4998</th>\n",
       "      <td>83.748623</td>\n",
       "      <td>1.751525</td>\n",
       "      <td>27.298892</td>\n",
       "      <td>Female</td>\n",
       "      <td>55</td>\n",
       "      <td>over weight</td>\n",
       "      <td>5</td>\n",
       "    </tr>\n",
       "    <tr>\n",
       "      <th>4999</th>\n",
       "      <td>103.344782</td>\n",
       "      <td>1.789984</td>\n",
       "      <td>32.254493</td>\n",
       "      <td>Female</td>\n",
       "      <td>22</td>\n",
       "      <td>severe obese</td>\n",
       "      <td>7</td>\n",
       "    </tr>\n",
       "  </tbody>\n",
       "</table>\n",
       "<p>5000 rows × 7 columns</p>\n",
       "</div>"
      ],
      "text/plain": [
       "          weight    height        bmi  gender  age         bmicase  \\\n",
       "0      92.085190  1.760250  29.719488  Female   59     over weight   \n",
       "1      61.089124  1.595499  23.997776  Female   25          normal   \n",
       "2      82.454037  1.816538  24.987499  Female   50          normal   \n",
       "3     101.713306  1.790696  31.720047  Female   62           obese   \n",
       "4      99.609527  1.969726  25.673756    Male   57     over weight   \n",
       "...          ...       ...        ...     ...  ...             ...   \n",
       "4995   55.256111  1.442648  26.549697  Female   23     over weight   \n",
       "4996  106.683815  1.779544  33.688435  Female   65    severe obese   \n",
       "4997   55.645396  1.915978  15.158221    Male   26  sever thinness   \n",
       "4998   83.748623  1.751525  27.298892  Female   55     over weight   \n",
       "4999  103.344782  1.789984  32.254493  Female   22    severe obese   \n",
       "\n",
       "      exercise recommendation plan  \n",
       "0                                5  \n",
       "1                                4  \n",
       "2                                4  \n",
       "3                                6  \n",
       "4                                5  \n",
       "...                            ...  \n",
       "4995                             5  \n",
       "4996                             7  \n",
       "4997                             1  \n",
       "4998                             5  \n",
       "4999                             7  \n",
       "\n",
       "[5000 rows x 7 columns]"
      ]
     },
     "execution_count": 132,
     "metadata": {},
     "output_type": "execute_result"
    }
   ],
   "source": [
    "df"
   ]
  },
  {
   "cell_type": "markdown",
   "id": "8f4ae63f-2051-4dd8-afb3-aba96923647d",
   "metadata": {},
   "source": [
    "### Weight"
   ]
  },
  {
   "cell_type": "code",
   "execution_count": 133,
   "id": "933991c8-3811-40c7-8344-5fcc07e9fc09",
   "metadata": {},
   "outputs": [
    {
     "data": {
      "text/plain": [
       "weight\n",
       "92.085190     1\n",
       "78.859116     1\n",
       "81.873501     1\n",
       "108.915000    1\n",
       "58.512168     1\n",
       "             ..\n",
       "91.278114     1\n",
       "91.911218     1\n",
       "87.244728     1\n",
       "82.337091     1\n",
       "103.344782    1\n",
       "Name: count, Length: 5000, dtype: int64"
      ]
     },
     "execution_count": 133,
     "metadata": {},
     "output_type": "execute_result"
    }
   ],
   "source": [
    "df['weight'].value_counts()"
   ]
  },
  {
   "cell_type": "code",
   "execution_count": 134,
   "id": "2c275af7-8a90-4f73-84f6-8f02bbf2347c",
   "metadata": {},
   "outputs": [
    {
     "data": {
      "text/plain": [
       "0"
      ]
     },
     "execution_count": 134,
     "metadata": {},
     "output_type": "execute_result"
    }
   ],
   "source": [
    "df['weight'].isna().sum()"
   ]
  },
  {
   "cell_type": "code",
   "execution_count": 135,
   "id": "3036ca47-098e-44a7-acf1-9cef480644a8",
   "metadata": {},
   "outputs": [
    {
     "data": {
      "image/png": "[encoded data removed]",
      "text/plain": [
       "<Figure size 1500x1000 with 6 Axes>"
      ]
     },
     "metadata": {},
     "output_type": "display_data"
    },
    {
     "data": {
      "image/png": "[encoded data removed]",
      "text/plain": [
       "<Figure size 1500x1000 with 1 Axes>"
      ]
     },
     "metadata": {},
     "output_type": "display_data"
    },
    {
     "name": "stdout",
     "output_type": "stream",
     "text": [
      "Index(['weight', 'height', 'bmi', 'age', 'exercise recommendation plan'], dtype='object')\n"
     ]
    }
   ],
   "source": [
    "df.hist(bins = 30, figsize = (15,10))\n",
    "plt.tight_layout()\n",
    "plt.show()\n",
    "plt.figure(figsize =(15,10))\n",
    "sns.boxplot(data = df)\n",
    "plt.xticks(rotation = 90)\n",
    "plt.show()\n",
    "\n",
    "numeric_cols = df.select_dtypes(include = ['number']).columns\n",
    "print(numeric_cols)"
   ]
  },
  {
   "cell_type": "code",
   "execution_count": 136,
   "id": "325d6c88-6953-4211-b087-3d25181d34a5",
   "metadata": {},
   "outputs": [
    {
     "data": {
      "image/png": "[encoded data removed]",
      "text/plain": [
       "<Figure size 1200x800 with 2 Axes>"
      ]
     },
     "metadata": {},
     "output_type": "display_data"
    }
   ],
   "source": [
    "correlation_matix = df[numeric_cols].corr()\n",
    "\n",
    "plt.figure(figsize = (12,8))\n",
    "sns.heatmap(correlation_matix, annot= True, cmap = 'coolwarm')\n",
    "plt.show()\n",
    "\n"
   ]
  },
  {
   "cell_type": "markdown",
   "id": "d22cd02a-6f0e-4b58-8f6c-a2a8484dcdb3",
   "metadata": {},
   "source": [
    "### Analyzing categorical data"
   ]
  },
  {
   "cell_type": "code",
   "execution_count": 137,
   "id": "87cd646b-4615-4183-a0be-0e87e0b89b16",
   "metadata": {},
   "outputs": [
    {
     "data": {
      "image/png": "[encoded data removed]",
      "text/plain": [
       "<Figure size 640x480 with 1 Axes>"
      ]
     },
     "metadata": {},
     "output_type": "display_data"
    },
    {
     "data": {
      "image/png": "[encoded data removed]",
      "text/plain": [
       "<Figure size 640x480 with 1 Axes>"
      ]
     },
     "metadata": {},
     "output_type": "display_data"
    }
   ],
   "source": [
    "sns.countplot(x = 'gender', data = df)\n",
    "plt.show()\n",
    "\n",
    "sns.countplot(x = 'bmicase', data = df)\n",
    "plt.show()"
   ]
  },
  {
   "cell_type": "code",
   "execution_count": 138,
   "id": "fb5506e5-cdf6-4ffc-b6db-538b1617fb7a",
   "metadata": {},
   "outputs": [
    {
     "data": {
      "image/png": "[encoded data removed]",
      "text/plain": [
       "<Figure size 1200x800 with 1 Axes>"
      ]
     },
     "metadata": {},
     "output_type": "display_data"
    }
   ],
   "source": [
    "plt.figure(figsize = (12,8))\n",
    "sns.countplot(x = 'exercise recommendation plan', data = df)\n",
    "plt.show()"
   ]
  },
  {
   "cell_type": "markdown",
   "id": "f149f5a0-76d3-4654-80eb-6450b1b776be",
   "metadata": {},
   "source": [
    "### Feature Enginerring"
   ]
  },
  {
   "cell_type": "code",
   "execution_count": 139,
   "id": "710e7955-2f67-4cf6-be63-9057d4488f5d",
   "metadata": {},
   "outputs": [],
   "source": [
    "#df['height_to_weight_ration'] = df['height']/df['weight']"
   ]
  },
  {
   "cell_type": "code",
   "execution_count": 140,
   "id": "54323cd1-282f-4739-9785-975bf6f10087",
   "metadata": {},
   "outputs": [],
   "source": [
    "#df['bmi_age_interaction'] = df['bmi'] * df['age']"
   ]
  },
  {
   "cell_type": "code",
   "execution_count": 141,
   "id": "0b0aaa3d-5c50-4711-9bab-0af6d4176d2b",
   "metadata": {},
   "outputs": [
    {
     "data": {
      "text/html": [
       "<div>\n",
       "<style scoped>\n",
       "    .dataframe tbody tr th:only-of-type {\n",
       "        vertical-align: middle;\n",
       "    }\n",
       "\n",
       "    .dataframe tbody tr th {\n",
       "        vertical-align: top;\n",
       "    }\n",
       "\n",
       "    .dataframe thead th {\n",
       "        text-align: right;\n",
       "    }\n",
       "</style>\n",
       "<table border=\"1\" class=\"dataframe\">\n",
       "  <thead>\n",
       "    <tr style=\"text-align: right;\">\n",
       "      <th></th>\n",
       "      <th>weight</th>\n",
       "      <th>height</th>\n",
       "      <th>bmi</th>\n",
       "      <th>gender</th>\n",
       "      <th>age</th>\n",
       "      <th>bmicase</th>\n",
       "      <th>exercise recommendation plan</th>\n",
       "    </tr>\n",
       "  </thead>\n",
       "  <tbody>\n",
       "    <tr>\n",
       "      <th>0</th>\n",
       "      <td>92.085190</td>\n",
       "      <td>1.760250</td>\n",
       "      <td>29.719488</td>\n",
       "      <td>Female</td>\n",
       "      <td>59</td>\n",
       "      <td>over weight</td>\n",
       "      <td>5</td>\n",
       "    </tr>\n",
       "    <tr>\n",
       "      <th>1</th>\n",
       "      <td>61.089124</td>\n",
       "      <td>1.595499</td>\n",
       "      <td>23.997776</td>\n",
       "      <td>Female</td>\n",
       "      <td>25</td>\n",
       "      <td>normal</td>\n",
       "      <td>4</td>\n",
       "    </tr>\n",
       "    <tr>\n",
       "      <th>2</th>\n",
       "      <td>82.454037</td>\n",
       "      <td>1.816538</td>\n",
       "      <td>24.987499</td>\n",
       "      <td>Female</td>\n",
       "      <td>50</td>\n",
       "      <td>normal</td>\n",
       "      <td>4</td>\n",
       "    </tr>\n",
       "    <tr>\n",
       "      <th>3</th>\n",
       "      <td>101.713306</td>\n",
       "      <td>1.790696</td>\n",
       "      <td>31.720047</td>\n",
       "      <td>Female</td>\n",
       "      <td>62</td>\n",
       "      <td>obese</td>\n",
       "      <td>6</td>\n",
       "    </tr>\n",
       "    <tr>\n",
       "      <th>4</th>\n",
       "      <td>99.609527</td>\n",
       "      <td>1.969726</td>\n",
       "      <td>25.673756</td>\n",
       "      <td>Male</td>\n",
       "      <td>57</td>\n",
       "      <td>over weight</td>\n",
       "      <td>5</td>\n",
       "    </tr>\n",
       "    <tr>\n",
       "      <th>...</th>\n",
       "      <td>...</td>\n",
       "      <td>...</td>\n",
       "      <td>...</td>\n",
       "      <td>...</td>\n",
       "      <td>...</td>\n",
       "      <td>...</td>\n",
       "      <td>...</td>\n",
       "    </tr>\n",
       "    <tr>\n",
       "      <th>4995</th>\n",
       "      <td>55.256111</td>\n",
       "      <td>1.442648</td>\n",
       "      <td>26.549697</td>\n",
       "      <td>Female</td>\n",
       "      <td>23</td>\n",
       "      <td>over weight</td>\n",
       "      <td>5</td>\n",
       "    </tr>\n",
       "    <tr>\n",
       "      <th>4996</th>\n",
       "      <td>106.683815</td>\n",
       "      <td>1.779544</td>\n",
       "      <td>33.688435</td>\n",
       "      <td>Female</td>\n",
       "      <td>65</td>\n",
       "      <td>severe obese</td>\n",
       "      <td>7</td>\n",
       "    </tr>\n",
       "    <tr>\n",
       "      <th>4997</th>\n",
       "      <td>55.645396</td>\n",
       "      <td>1.915978</td>\n",
       "      <td>15.158221</td>\n",
       "      <td>Male</td>\n",
       "      <td>26</td>\n",
       "      <td>sever thinness</td>\n",
       "      <td>1</td>\n",
       "    </tr>\n",
       "    <tr>\n",
       "      <th>4998</th>\n",
       "      <td>83.748623</td>\n",
       "      <td>1.751525</td>\n",
       "      <td>27.298892</td>\n",
       "      <td>Female</td>\n",
       "      <td>55</td>\n",
       "      <td>over weight</td>\n",
       "      <td>5</td>\n",
       "    </tr>\n",
       "    <tr>\n",
       "      <th>4999</th>\n",
       "      <td>103.344782</td>\n",
       "      <td>1.789984</td>\n",
       "      <td>32.254493</td>\n",
       "      <td>Female</td>\n",
       "      <td>22</td>\n",
       "      <td>severe obese</td>\n",
       "      <td>7</td>\n",
       "    </tr>\n",
       "  </tbody>\n",
       "</table>\n",
       "<p>5000 rows × 7 columns</p>\n",
       "</div>"
      ],
      "text/plain": [
       "          weight    height        bmi  gender  age         bmicase  \\\n",
       "0      92.085190  1.760250  29.719488  Female   59     over weight   \n",
       "1      61.089124  1.595499  23.997776  Female   25          normal   \n",
       "2      82.454037  1.816538  24.987499  Female   50          normal   \n",
       "3     101.713306  1.790696  31.720047  Female   62           obese   \n",
       "4      99.609527  1.969726  25.673756    Male   57     over weight   \n",
       "...          ...       ...        ...     ...  ...             ...   \n",
       "4995   55.256111  1.442648  26.549697  Female   23     over weight   \n",
       "4996  106.683815  1.779544  33.688435  Female   65    severe obese   \n",
       "4997   55.645396  1.915978  15.158221    Male   26  sever thinness   \n",
       "4998   83.748623  1.751525  27.298892  Female   55     over weight   \n",
       "4999  103.344782  1.789984  32.254493  Female   22    severe obese   \n",
       "\n",
       "      exercise recommendation plan  \n",
       "0                                5  \n",
       "1                                4  \n",
       "2                                4  \n",
       "3                                6  \n",
       "4                                5  \n",
       "...                            ...  \n",
       "4995                             5  \n",
       "4996                             7  \n",
       "4997                             1  \n",
       "4998                             5  \n",
       "4999                             7  \n",
       "\n",
       "[5000 rows x 7 columns]"
      ]
     },
     "execution_count": 141,
     "metadata": {},
     "output_type": "execute_result"
    }
   ],
   "source": [
    "df"
   ]
  },
  {
   "cell_type": "code",
   "execution_count": 158,
   "id": "ed8081ee-46b0-4b3b-a13a-72bba4a653a7",
   "metadata": {},
   "outputs": [],
   "source": [
    "df['height'] = np.where(df['height']< 1.5, df['height'].median(), df['height'])"
   ]
  },
  {
   "cell_type": "code",
   "execution_count": null,
   "id": "85ca99e7-d004-4e25-9b00-eb6987e731ac",
   "metadata": {},
   "outputs": [],
   "source": []
  },
  {
   "cell_type": "code",
   "execution_count": null,
   "id": "b994804c-61c0-4fae-b844-d9b3a9f153fe",
   "metadata": {},
   "outputs": [],
   "source": []
  },
  {
   "cell_type": "markdown",
   "id": "9ffe1637-b80d-4e31-af6a-36a0c314ee19",
   "metadata": {},
   "source": [
    "### encoding data"
   ]
  },
  {
   "cell_type": "code",
   "execution_count": 161,
   "id": "6da1ce92-c8ae-4840-9b3f-87ee368ffc11",
   "metadata": {},
   "outputs": [],
   "source": [
    "df['gender'].replace({'Female':0, 'Male':1},inplace = True)"
   ]
  },
  {
   "cell_type": "code",
   "execution_count": null,
   "id": "722ed75e-50ba-4937-a5ae-3cc625e8249c",
   "metadata": {},
   "outputs": [],
   "source": []
  },
  {
   "cell_type": "code",
   "execution_count": null,
   "id": "a8611007-2400-435e-9c3d-4f43371dfbda",
   "metadata": {},
   "outputs": [],
   "source": [
    "df = pd.get_dummies(df, columns=['bmicase'], dtype=int )"
   ]
  },
  {
   "cell_type": "markdown",
   "id": "9cdc2fb2-da45-4213-8c07-9ea6cbec79ca",
   "metadata": {},
   "source": [
    "### drop y column"
   ]
  },
  {
   "cell_type": "code",
   "execution_count": 164,
   "id": "601c1efc-2a83-423f-9de8-a24e2739e047",
   "metadata": {},
   "outputs": [],
   "source": [
    "x = df.drop('exercise recommendation plan', axis = 1)\n",
    "y = df[['exercise recommendation plan']]"
   ]
  },
  {
   "cell_type": "markdown",
   "id": "a3c647a4-2ef1-47b0-be1a-0361b8d09a56",
   "metadata": {},
   "source": [
    "### Split data into train test "
   ]
  },
  {
   "cell_type": "code",
   "execution_count": 165,
   "id": "b76eb90b-179d-4646-9f56-fff371cdfd69",
   "metadata": {},
   "outputs": [],
   "source": [
    "x_train, x_test, y_train, y_test = train_test_split(x,y, test_size= 0.2, random_state= 42)"
   ]
  },
  {
   "cell_type": "markdown",
   "id": "ef4624cc-f06e-4d30-8f2e-cf4d686f7bef",
   "metadata": {},
   "source": [
    "### Model"
   ]
  },
  {
   "cell_type": "code",
   "execution_count": 166,
   "id": "ef1ad309-bc79-4475-bfc0-73d77dce4e9f",
   "metadata": {},
   "outputs": [],
   "source": [
    "linear_model = LinearRegression()"
   ]
  },
  {
   "cell_type": "code",
   "execution_count": 167,
   "id": "df6b19a4-b628-464e-9ce8-bac34772b83b",
   "metadata": {},
   "outputs": [
    {
     "data": {
      "text/html": [
       "<style>#sk-container-id-5 {color: black;background-color: white;}#sk-container-id-5 pre{padding: 0;}#sk-container-id-5 div.sk-toggleable {background-color: white;}#sk-container-id-5 label.sk-toggleable__label {cursor: pointer;display: block;width: 100%;margin-bottom: 0;padding: 0.3em;box-sizing: border-box;text-align: center;}#sk-container-id-5 label.sk-toggleable__label-arrow:before {content: \"▸\";float: left;margin-right: 0.25em;color: #696969;}#sk-container-id-5 label.sk-toggleable__label-arrow:hover:before {color: black;}#sk-container-id-5 div.sk-estimator:hover label.sk-toggleable__label-arrow:before {color: black;}#sk-container-id-5 div.sk-toggleable__content {max-height: 0;max-width: 0;overflow: hidden;text-align: left;background-color: #f0f8ff;}#sk-container-id-5 div.sk-toggleable__content pre {margin: 0.2em;color: black;border-radius: 0.25em;background-color: #f0f8ff;}#sk-container-id-5 input.sk-toggleable__control:checked~div.sk-toggleable__content {max-height: 200px;max-width: 100%;overflow: auto;}#sk-container-id-5 input.sk-toggleable__control:checked~label.sk-toggleable__label-arrow:before {content: \"▾\";}#sk-container-id-5 div.sk-estimator input.sk-toggleable__control:checked~label.sk-toggleable__label {background-color: #d4ebff;}#sk-container-id-5 div.sk-label input.sk-toggleable__control:checked~label.sk-toggleable__label {background-color: #d4ebff;}#sk-container-id-5 input.sk-hidden--visually {border: 0;clip: rect(1px 1px 1px 1px);clip: rect(1px, 1px, 1px, 1px);height: 1px;margin: -1px;overflow: hidden;padding: 0;position: absolute;width: 1px;}#sk-container-id-5 div.sk-estimator {font-family: monospace;background-color: #f0f8ff;border: 1px dotted black;border-radius: 0.25em;box-sizing: border-box;margin-bottom: 0.5em;}#sk-container-id-5 div.sk-estimator:hover {background-color: #d4ebff;}#sk-container-id-5 div.sk-parallel-item::after {content: \"\";width: 100%;border-bottom: 1px solid gray;flex-grow: 1;}#sk-container-id-5 div.sk-label:hover label.sk-toggleable__label {background-color: #d4ebff;}#sk-container-id-5 div.sk-serial::before {content: \"\";position: absolute;border-left: 1px solid gray;box-sizing: border-box;top: 0;bottom: 0;left: 50%;z-index: 0;}#sk-container-id-5 div.sk-serial {display: flex;flex-direction: column;align-items: center;background-color: white;padding-right: 0.2em;padding-left: 0.2em;position: relative;}#sk-container-id-5 div.sk-item {position: relative;z-index: 1;}#sk-container-id-5 div.sk-parallel {display: flex;align-items: stretch;justify-content: center;background-color: white;position: relative;}#sk-container-id-5 div.sk-item::before, #sk-container-id-5 div.sk-parallel-item::before {content: \"\";position: absolute;border-left: 1px solid gray;box-sizing: border-box;top: 0;bottom: 0;left: 50%;z-index: -1;}#sk-container-id-5 div.sk-parallel-item {display: flex;flex-direction: column;z-index: 1;position: relative;background-color: white;}#sk-container-id-5 div.sk-parallel-item:first-child::after {align-self: flex-end;width: 50%;}#sk-container-id-5 div.sk-parallel-item:last-child::after {align-self: flex-start;width: 50%;}#sk-container-id-5 div.sk-parallel-item:only-child::after {width: 0;}#sk-container-id-5 div.sk-dashed-wrapped {border: 1px dashed gray;margin: 0 0.4em 0.5em 0.4em;box-sizing: border-box;padding-bottom: 0.4em;background-color: white;}#sk-container-id-5 div.sk-label label {font-family: monospace;font-weight: bold;display: inline-block;line-height: 1.2em;}#sk-container-id-5 div.sk-label-container {text-align: center;}#sk-container-id-5 div.sk-container {/* jupyter's `normalize.less` sets `[hidden] { display: none; }` but bootstrap.min.css set `[hidden] { display: none !important; }` so we also need the `!important` here to be able to override the default hidden behavior on the sphinx rendered scikit-learn.org. See: https://github.com/scikit-learn/scikit-learn/issues/21755 */display: inline-block !important;position: relative;}#sk-container-id-5 div.sk-text-repr-fallback {display: none;}</style><div id=\"sk-container-id-5\" class=\"sk-top-container\"><div class=\"sk-text-repr-fallback\"><pre>LinearRegression()</pre><b>In a Jupyter environment, please rerun this cell to show the HTML representation or trust the notebook. <br />On GitHub, the HTML representation is unable to render, please try loading this page with nbviewer.org.</b></div><div class=\"sk-container\" hidden><div class=\"sk-item\"><div class=\"sk-estimator sk-toggleable\"><input class=\"sk-toggleable__control sk-hidden--visually\" id=\"sk-estimator-id-5\" type=\"checkbox\" checked><label for=\"sk-estimator-id-5\" class=\"sk-toggleable__label sk-toggleable__label-arrow\">LinearRegression</label><div class=\"sk-toggleable__content\"><pre>LinearRegression()</pre></div></div></div></div></div>"
      ],
      "text/plain": [
       "LinearRegression()"
      ]
     },
     "execution_count": 167,
     "metadata": {},
     "output_type": "execute_result"
    }
   ],
   "source": [
    "linear_model.fit(x_train, y_train)"
   ]
  },
  {
   "cell_type": "code",
   "execution_count": 168,
   "id": "c3180a48-58e7-4ac5-9811-34c6a9c304f0",
   "metadata": {},
   "outputs": [
    {
     "data": {
      "text/plain": [
       "1.0"
      ]
     },
     "execution_count": 168,
     "metadata": {},
     "output_type": "execute_result"
    }
   ],
   "source": [
    "linear_model.score(x_test, y_test)"
   ]
  },
  {
   "cell_type": "code",
   "execution_count": 169,
   "id": "e7a5dce7-1596-4c80-9aae-9f412dfa4d6e",
   "metadata": {},
   "outputs": [
    {
     "data": {
      "text/plain": [
       "1.0"
      ]
     },
     "execution_count": 169,
     "metadata": {},
     "output_type": "execute_result"
    }
   ],
   "source": [
    "linear_model.score(x_train, y_train)"
   ]
  },
  {
   "cell_type": "markdown",
   "id": "e8e9fe91-a590-4470-9a72-dd087a6c7721",
   "metadata": {},
   "source": [
    "### Predict_model"
   ]
  },
  {
   "cell_type": "code",
   "execution_count": 170,
   "id": "f4dc7001-e295-4486-98c4-0648910bfd59",
   "metadata": {},
   "outputs": [],
   "source": [
    "predict = linear_model.predict(x_test)"
   ]
  },
  {
   "cell_type": "markdown",
   "id": "f1a8dd62-b8c2-4f43-8852-05680554e091",
   "metadata": {},
   "source": [
    "### Evaluation Matrics"
   ]
  },
  {
   "cell_type": "code",
   "execution_count": 171,
   "id": "73083dbd-e588-4bf3-99b8-13a841b6f371",
   "metadata": {},
   "outputs": [
    {
     "data": {
      "text/plain": [
       "2.441158386545794e-15"
      ]
     },
     "execution_count": 171,
     "metadata": {},
     "output_type": "execute_result"
    }
   ],
   "source": [
    "mae = mean_absolute_error(y_test,predict)\n",
    "mae"
   ]
  },
  {
   "cell_type": "code",
   "execution_count": 172,
   "id": "bc1509e2-d152-4596-b086-9dbd8515161a",
   "metadata": {},
   "outputs": [
    {
     "data": {
      "text/plain": [
       "9.091128894606397e-30"
      ]
     },
     "execution_count": 172,
     "metadata": {},
     "output_type": "execute_result"
    }
   ],
   "source": [
    "mse = mean_squared_error(y_test,predict)\n",
    "mse"
   ]
  },
  {
   "cell_type": "markdown",
   "id": "5ba4c0b2-f7e6-4f9a-8412-87ecb3f1fb6c",
   "metadata": {},
   "source": [
    "### Testing on single row"
   ]
  },
  {
   "cell_type": "code",
   "execution_count": 173,
   "id": "249e9002-7393-422f-b7b1-178433cf6e6d",
   "metadata": {},
   "outputs": [
    {
     "data": {
      "text/html": [
       "<div>\n",
       "<style scoped>\n",
       "    .dataframe tbody tr th:only-of-type {\n",
       "        vertical-align: middle;\n",
       "    }\n",
       "\n",
       "    .dataframe tbody tr th {\n",
       "        vertical-align: top;\n",
       "    }\n",
       "\n",
       "    .dataframe thead th {\n",
       "        text-align: right;\n",
       "    }\n",
       "</style>\n",
       "<table border=\"1\" class=\"dataframe\">\n",
       "  <thead>\n",
       "    <tr style=\"text-align: right;\">\n",
       "      <th></th>\n",
       "      <th>0</th>\n",
       "    </tr>\n",
       "  </thead>\n",
       "  <tbody>\n",
       "    <tr>\n",
       "      <th>weight</th>\n",
       "      <td>92.085190</td>\n",
       "    </tr>\n",
       "    <tr>\n",
       "      <th>height</th>\n",
       "      <td>1.760250</td>\n",
       "    </tr>\n",
       "    <tr>\n",
       "      <th>bmi</th>\n",
       "      <td>29.719488</td>\n",
       "    </tr>\n",
       "    <tr>\n",
       "      <th>gender</th>\n",
       "      <td>0.000000</td>\n",
       "    </tr>\n",
       "    <tr>\n",
       "      <th>age</th>\n",
       "      <td>59.000000</td>\n",
       "    </tr>\n",
       "    <tr>\n",
       "      <th>bmicase_mild thinness</th>\n",
       "      <td>0.000000</td>\n",
       "    </tr>\n",
       "    <tr>\n",
       "      <th>bmicase_moderate thinness</th>\n",
       "      <td>0.000000</td>\n",
       "    </tr>\n",
       "    <tr>\n",
       "      <th>bmicase_normal</th>\n",
       "      <td>0.000000</td>\n",
       "    </tr>\n",
       "    <tr>\n",
       "      <th>bmicase_obese</th>\n",
       "      <td>0.000000</td>\n",
       "    </tr>\n",
       "    <tr>\n",
       "      <th>bmicase_over weight</th>\n",
       "      <td>1.000000</td>\n",
       "    </tr>\n",
       "    <tr>\n",
       "      <th>bmicase_sever thinness</th>\n",
       "      <td>0.000000</td>\n",
       "    </tr>\n",
       "    <tr>\n",
       "      <th>bmicase_severe obese</th>\n",
       "      <td>0.000000</td>\n",
       "    </tr>\n",
       "  </tbody>\n",
       "</table>\n",
       "</div>"
      ],
      "text/plain": [
       "                                   0\n",
       "weight                     92.085190\n",
       "height                      1.760250\n",
       "bmi                        29.719488\n",
       "gender                      0.000000\n",
       "age                        59.000000\n",
       "bmicase_mild thinness       0.000000\n",
       "bmicase_moderate thinness   0.000000\n",
       "bmicase_normal              0.000000\n",
       "bmicase_obese               0.000000\n",
       "bmicase_over weight         1.000000\n",
       "bmicase_sever thinness      0.000000\n",
       "bmicase_severe obese        0.000000"
      ]
     },
     "execution_count": 173,
     "metadata": {},
     "output_type": "execute_result"
    }
   ],
   "source": [
    "x.head(1).T"
   ]
  },
  {
   "cell_type": "code",
   "execution_count": 174,
   "id": "c3dee2ec-1e92-4b60-a9df-6fdab8ca843e",
   "metadata": {},
   "outputs": [
    {
     "data": {
      "text/plain": [
       "array([[92.0851902 ,  1.76024951, 29.71948799,  0.        , 59.        ,\n",
       "         0.        ,  0.        ,  0.        ,  0.        ,  1.        ,\n",
       "         0.        ,  0.        ]])"
      ]
     },
     "execution_count": 174,
     "metadata": {},
     "output_type": "execute_result"
    }
   ],
   "source": [
    "x.head(1).values"
   ]
  },
  {
   "cell_type": "code",
   "execution_count": 178,
   "id": "0065e035-d9a3-4012-88e3-bc274cb0e8ae",
   "metadata": {},
   "outputs": [],
   "source": [
    "weight = 92.08\n",
    "height = 1.76\n",
    "bmi\t= 29.71\n",
    "gender = 'Female'\n",
    "age = 59.0\n",
    "bmicase = 'over weight'"
   ]
  },
  {
   "cell_type": "code",
   "execution_count": 179,
   "id": "afbc8f5c-69a6-4db1-a532-e40139a01817",
   "metadata": {},
   "outputs": [
    {
     "data": {
      "text/plain": [
       "Index(['weight', 'height', 'bmi', 'gender', 'age', 'bmicase_mild thinness',\n",
       "       'bmicase_moderate thinness', 'bmicase_normal', 'bmicase_obese',\n",
       "       'bmicase_over weight', 'bmicase_sever thinness',\n",
       "       'bmicase_severe obese'],\n",
       "      dtype='object')"
      ]
     },
     "execution_count": 179,
     "metadata": {},
     "output_type": "execute_result"
    }
   ],
   "source": [
    "column_names = x_train.columns\n",
    "column_names"
   ]
  },
  {
   "cell_type": "code",
   "execution_count": 185,
   "id": "8cf9d6e8-cda0-4e98-bc4e-551e50de306c",
   "metadata": {},
   "outputs": [
    {
     "name": "stdout",
     "output_type": "stream",
     "text": [
      "{'gender': {'Female': 0, 'Male': 1}, 'columns': ['weight', 'height', 'bmi', 'gender', 'age', 'bmicase_mild thinness', 'bmicase_moderate thinness', 'bmicase_normal', 'bmicase_obese', 'bmicase_over weight', 'bmicase_sever thinness', 'bmicase_severe obese']}\n"
     ]
    }
   ],
   "source": [
    "project_data = {'gender': {'Female': 0, 'Male':1},\n",
    "                'columns': list(column_names)}\n",
    "print(project_data)"
   ]
  },
  {
   "cell_type": "code",
   "execution_count": 186,
   "id": "04eec795-d5cc-46e6-9d7d-b577da37b68b",
   "metadata": {},
   "outputs": [
    {
     "data": {
      "text/plain": [
       "9"
      ]
     },
     "execution_count": 186,
     "metadata": {},
     "output_type": "execute_result"
    }
   ],
   "source": [
    "bmicase_val = 'bmicase_' + bmicase\n",
    "bmicase_index = np.where(column_names == bmicase_val)[0][0]\n",
    "bmicase_index"
   ]
  },
  {
   "cell_type": "code",
   "execution_count": 187,
   "id": "9a543a9a-cdfd-43ab-8810-2c676ac9afb5",
   "metadata": {},
   "outputs": [
    {
     "data": {
      "text/plain": [
       "0"
      ]
     },
     "execution_count": 187,
     "metadata": {},
     "output_type": "execute_result"
    }
   ],
   "source": [
    "project_data['gender'][gender]"
   ]
  },
  {
   "cell_type": "code",
   "execution_count": 182,
   "id": "6a10b3e0-ee6d-450e-8cd1-9e3a173af876",
   "metadata": {},
   "outputs": [
    {
     "data": {
      "text/plain": [
       "12"
      ]
     },
     "execution_count": 182,
     "metadata": {},
     "output_type": "execute_result"
    }
   ],
   "source": [
    "linear_model.n_features_in_"
   ]
  },
  {
   "cell_type": "code",
   "execution_count": 183,
   "id": "c5ff78d3-9160-4ffc-a3f0-2348f984dd37",
   "metadata": {},
   "outputs": [
    {
     "data": {
      "text/plain": [
       "12"
      ]
     },
     "execution_count": 183,
     "metadata": {},
     "output_type": "execute_result"
    }
   ],
   "source": [
    "x.shape[1]"
   ]
  },
  {
   "cell_type": "code",
   "execution_count": 189,
   "id": "e32118e3-0c53-4167-9beb-ab566e0e38a4",
   "metadata": {},
   "outputs": [
    {
     "data": {
      "text/plain": [
       "array([92.08,  1.76, 29.71,  0.  , 59.  ,  0.  ,  0.  ,  0.  ,  0.  ,\n",
       "        1.  ,  0.  ,  0.  ])"
      ]
     },
     "execution_count": 189,
     "metadata": {},
     "output_type": "execute_result"
    }
   ],
   "source": [
    "test_array = np.zeros(x.shape[1])\n",
    "test_array[0] = weight\n",
    "test_array[1] = height\n",
    "test_array[2] = bmi\n",
    "test_array[3] = project_data['gender'][gender]\n",
    "test_array[4] = age\n",
    "bmicase_val = 'bmicase_' + bmicase\n",
    "bmicase_index = project_data['columns'].index(bmicase_val)\n",
    "test_array[bmicase_index] = 1\n",
    "test_array"
   ]
  },
  {
   "cell_type": "code",
   "execution_count": 196,
   "id": "dad8299b-46e4-419a-8d8f-c72b1cef1fab",
   "metadata": {},
   "outputs": [
    {
     "name": "stdout",
     "output_type": "stream",
     "text": [
      " Exercise recomendation plan is 5\n"
     ]
    }
   ],
   "source": [
    "result = linear_model.predict([test_array])[0]\n",
    "print(f' Exercise Recomendation Plan is {int(result)}')"
   ]
  },
  {
   "cell_type": "markdown",
   "id": "06d19092-4f7d-47f5-9f1f-6b16ccb828fa",
   "metadata": {},
   "source": [
    "### Saving model and Json"
   ]
  },
  {
   "cell_type": "code",
   "execution_count": 197,
   "id": "8f964bd6-0568-47ee-a851-47d703faa7b7",
   "metadata": {},
   "outputs": [],
   "source": [
    "with open('Linear_model.pkl','wb') as f:\n",
    "    pickle.dump(linear_model, f)"
   ]
  },
  {
   "cell_type": "code",
   "execution_count": 198,
   "id": "02bd8eca-e7c7-49fb-a395-12c5e51a4d70",
   "metadata": {},
   "outputs": [],
   "source": [
    "with open ('project_data.json', 'w') as f:\n",
    "    json.dump(project_data,f)"
   ]
  },
  {
   "cell_type": "code",
   "execution_count": null,
   "id": "d787538a-727d-4a26-8250-6b55abb1152d",
   "metadata": {},
   "outputs": [],
   "source": []
  }
 ],
 "metadata": {
  "kernelspec": {
   "display_name": "Python 3 (ipykernel)",
   "language": "python",
   "name": "python3"
  },
  "language_info": {
   "codemirror_mode": {
    "name": "ipython",
    "version": 3
   },
   "file_extension": ".py",
   "mimetype": "text/x-python",
   "name": "python",
   "nbconvert_exporter": "python",
   "pygments_lexer": "ipython3",
   "version": "3.11.7"
  }
 },
 "nbformat": 4,
 "nbformat_minor": 5
}
